{
 "cells": [
  {
   "cell_type": "code",
   "execution_count": 42,
   "metadata": {},
   "outputs": [],
   "source": [
    "import QuantLib as ql\n",
    "from math import pow, sqrt\n",
    "import numpy as np\n",
    "from scipy.optimize import root\n",
    "import os\n",
    "import pandas as pd\n",
    "import functools\n"
   ]
  },
  {
   "cell_type": "code",
   "execution_count": 169,
   "metadata": {},
   "outputs": [],
   "source": [
    "day_count = ql.Actual365Fixed()\n",
    "calendar = ql.UnitedStates()\n",
    "calculation_date = ql.Date(8, 1, 2018)\n",
    "\n",
    "spot = 273.97\n",
    "ql.Settings.instance().evaluationDate = calculation_date\n",
    "\n",
    "risk_free_rate = 0.05\n",
    "dividend_rate = 0.0\n",
    "yield_ts = ql.YieldTermStructureHandle(\n",
    "    ql.FlatForward(calculation_date, risk_free_rate, day_count))\n",
    "dividend_ts = ql.YieldTermStructureHandle(\n",
    "    ql.FlatForward(calculation_date, dividend_rate, day_count))"
   ]
  },
  {
   "cell_type": "code",
   "execution_count": 170,
   "metadata": {},
   "outputs": [],
   "source": [
    "def read_data(date,index=\"SPY\",indicator=\"impliedV\"):\n",
    "    path = os.path.join(\"data\",indicator,index,date+\"_\"+index+\"~market__\"+indicator+\".csv\")\n",
    "    df = pd.read_csv(path)\n",
    "    return(df)"
   ]
  },
  {
   "cell_type": "code",
   "execution_count": 171,
   "metadata": {},
   "outputs": [],
   "source": [
    "df_iv = read_data(\"20180108\")\n",
    "df_iv[\"expiry\"] = df_iv[\"expiry\"].astype(\"str\")\n",
    "#df_iv[\"expiry\"] = pd.to_datetime(df_iv[\"expiry\"],format=\"%Y-%m-%d\")"
   ]
  },
  {
   "cell_type": "code",
   "execution_count": 511,
   "metadata": {},
   "outputs": [],
   "source": [
    "list_expiries = sorted(df_iv[\"expiry\"].unique())[4:]"
   ]
  },
  {
   "cell_type": "code",
   "execution_count": 512,
   "metadata": {},
   "outputs": [
    {
     "data": {
      "text/plain": [
       "['20180126',\n",
       " '20180202',\n",
       " '20180216',\n",
       " '20180316',\n",
       " '20180420',\n",
       " '20180615',\n",
       " '20180720',\n",
       " '20180921',\n",
       " '20181221']"
      ]
     },
     "execution_count": 512,
     "metadata": {},
     "output_type": "execute_result"
    }
   ],
   "source": [
    "list_expiries"
   ]
  },
  {
   "cell_type": "code",
   "execution_count": 513,
   "metadata": {},
   "outputs": [],
   "source": [
    "list_strikes = [df_iv[df_iv[\"expiry\"]==exp][\"strike\"].values.tolist() for exp in list_expiries]"
   ]
  },
  {
   "cell_type": "code",
   "execution_count": 514,
   "metadata": {},
   "outputs": [],
   "source": [
    "intersection_strikes_list = functools.reduce(lambda a,b : list(set(a) & set(b)),list_strikes)"
   ]
  },
  {
   "cell_type": "code",
   "execution_count": 495,
   "metadata": {},
   "outputs": [],
   "source": [
    "df_iv_filtered = df_iv[(df_iv[\"expiry\"].isin(list_expiries)) & (df_iv[\"strike\"].isin(intersection_strikes_list))]"
   ]
  },
  {
   "cell_type": "code",
   "execution_count": 496,
   "metadata": {},
   "outputs": [],
   "source": [
    "df_iv_filtered_pivot = df_iv_filtered.pivot(index=\"expiry\",columns=\"strike\",values=\"midImpliedV\")"
   ]
  },
  {
   "cell_type": "code",
   "execution_count": 497,
   "metadata": {},
   "outputs": [
    {
     "data": {
      "text/html": [
       "<div>\n",
       "<style scoped>\n",
       "    .dataframe tbody tr th:only-of-type {\n",
       "        vertical-align: middle;\n",
       "    }\n",
       "\n",
       "    .dataframe tbody tr th {\n",
       "        vertical-align: top;\n",
       "    }\n",
       "\n",
       "    .dataframe thead th {\n",
       "        text-align: right;\n",
       "    }\n",
       "</style>\n",
       "<table border=\"1\" class=\"dataframe\">\n",
       "  <thead>\n",
       "    <tr style=\"text-align: right;\">\n",
       "      <th>strike</th>\n",
       "      <th>185.0</th>\n",
       "      <th>190.0</th>\n",
       "      <th>195.0</th>\n",
       "      <th>200.0</th>\n",
       "      <th>205.0</th>\n",
       "      <th>210.0</th>\n",
       "      <th>215.0</th>\n",
       "      <th>220.0</th>\n",
       "      <th>225.0</th>\n",
       "      <th>230.0</th>\n",
       "      <th>...</th>\n",
       "      <th>277.0</th>\n",
       "      <th>278.0</th>\n",
       "      <th>279.0</th>\n",
       "      <th>280.0</th>\n",
       "      <th>285.0</th>\n",
       "      <th>290.0</th>\n",
       "      <th>295.0</th>\n",
       "      <th>300.0</th>\n",
       "      <th>305.0</th>\n",
       "      <th>310.0</th>\n",
       "    </tr>\n",
       "    <tr>\n",
       "      <th>expiry</th>\n",
       "      <th></th>\n",
       "      <th></th>\n",
       "      <th></th>\n",
       "      <th></th>\n",
       "      <th></th>\n",
       "      <th></th>\n",
       "      <th></th>\n",
       "      <th></th>\n",
       "      <th></th>\n",
       "      <th></th>\n",
       "      <th></th>\n",
       "      <th></th>\n",
       "      <th></th>\n",
       "      <th></th>\n",
       "      <th></th>\n",
       "      <th></th>\n",
       "      <th></th>\n",
       "      <th></th>\n",
       "      <th></th>\n",
       "      <th></th>\n",
       "      <th></th>\n",
       "    </tr>\n",
       "  </thead>\n",
       "  <tbody>\n",
       "    <tr>\n",
       "      <th>20180420</th>\n",
       "      <td>0.309701</td>\n",
       "      <td>0.297456</td>\n",
       "      <td>0.284133</td>\n",
       "      <td>0.273452</td>\n",
       "      <td>0.259425</td>\n",
       "      <td>0.248814</td>\n",
       "      <td>0.237130</td>\n",
       "      <td>0.226235</td>\n",
       "      <td>0.214872</td>\n",
       "      <td>0.203307</td>\n",
       "      <td>...</td>\n",
       "      <td>0.089141</td>\n",
       "      <td>0.087186</td>\n",
       "      <td>0.085313</td>\n",
       "      <td>0.083504</td>\n",
       "      <td>0.077595</td>\n",
       "      <td>0.076162</td>\n",
       "      <td>0.078293</td>\n",
       "      <td>0.084708</td>\n",
       "      <td>0.089068</td>\n",
       "      <td>0.093555</td>\n",
       "    </tr>\n",
       "    <tr>\n",
       "      <th>20180615</th>\n",
       "      <td>0.279123</td>\n",
       "      <td>0.271159</td>\n",
       "      <td>0.261645</td>\n",
       "      <td>0.252980</td>\n",
       "      <td>0.243816</td>\n",
       "      <td>0.234690</td>\n",
       "      <td>0.225516</td>\n",
       "      <td>0.215631</td>\n",
       "      <td>0.206500</td>\n",
       "      <td>0.196725</td>\n",
       "      <td>...</td>\n",
       "      <td>0.100243</td>\n",
       "      <td>0.098337</td>\n",
       "      <td>0.096601</td>\n",
       "      <td>0.094872</td>\n",
       "      <td>0.087177</td>\n",
       "      <td>0.082121</td>\n",
       "      <td>0.080506</td>\n",
       "      <td>0.081582</td>\n",
       "      <td>0.084616</td>\n",
       "      <td>0.088552</td>\n",
       "    </tr>\n",
       "    <tr>\n",
       "      <th>20180720</th>\n",
       "      <td>0.270857</td>\n",
       "      <td>0.262481</td>\n",
       "      <td>0.254204</td>\n",
       "      <td>0.245798</td>\n",
       "      <td>0.237498</td>\n",
       "      <td>0.228980</td>\n",
       "      <td>0.220449</td>\n",
       "      <td>0.211831</td>\n",
       "      <td>0.202937</td>\n",
       "      <td>0.194053</td>\n",
       "      <td>...</td>\n",
       "      <td>0.107109</td>\n",
       "      <td>0.105224</td>\n",
       "      <td>0.103641</td>\n",
       "      <td>0.101918</td>\n",
       "      <td>0.094306</td>\n",
       "      <td>0.088106</td>\n",
       "      <td>0.084230</td>\n",
       "      <td>0.083227</td>\n",
       "      <td>0.084098</td>\n",
       "      <td>0.087172</td>\n",
       "    </tr>\n",
       "    <tr>\n",
       "      <th>20180921</th>\n",
       "      <td>0.259565</td>\n",
       "      <td>0.251693</td>\n",
       "      <td>0.244562</td>\n",
       "      <td>0.237450</td>\n",
       "      <td>0.229866</td>\n",
       "      <td>0.222303</td>\n",
       "      <td>0.214764</td>\n",
       "      <td>0.207354</td>\n",
       "      <td>0.199727</td>\n",
       "      <td>0.191983</td>\n",
       "      <td>...</td>\n",
       "      <td>0.115594</td>\n",
       "      <td>0.114130</td>\n",
       "      <td>0.112466</td>\n",
       "      <td>0.110938</td>\n",
       "      <td>0.103429</td>\n",
       "      <td>0.097122</td>\n",
       "      <td>0.091715</td>\n",
       "      <td>0.088165</td>\n",
       "      <td>0.086469</td>\n",
       "      <td>0.086845</td>\n",
       "    </tr>\n",
       "    <tr>\n",
       "      <th>20181221</th>\n",
       "      <td>0.245600</td>\n",
       "      <td>0.239659</td>\n",
       "      <td>0.233462</td>\n",
       "      <td>0.227082</td>\n",
       "      <td>0.221022</td>\n",
       "      <td>0.214573</td>\n",
       "      <td>0.208275</td>\n",
       "      <td>0.201982</td>\n",
       "      <td>0.195585</td>\n",
       "      <td>0.189119</td>\n",
       "      <td>...</td>\n",
       "      <td>0.125604</td>\n",
       "      <td>0.124341</td>\n",
       "      <td>0.122862</td>\n",
       "      <td>0.121360</td>\n",
       "      <td>0.115041</td>\n",
       "      <td>0.109227</td>\n",
       "      <td>0.103738</td>\n",
       "      <td>0.099243</td>\n",
       "      <td>0.095465</td>\n",
       "      <td>0.092823</td>\n",
       "    </tr>\n",
       "  </tbody>\n",
       "</table>\n",
       "<p>5 rows × 50 columns</p>\n",
       "</div>"
      ],
      "text/plain": [
       "strike       185.0     190.0     195.0     200.0     205.0     210.0  \\\n",
       "expiry                                                                 \n",
       "20180420  0.309701  0.297456  0.284133  0.273452  0.259425  0.248814   \n",
       "20180615  0.279123  0.271159  0.261645  0.252980  0.243816  0.234690   \n",
       "20180720  0.270857  0.262481  0.254204  0.245798  0.237498  0.228980   \n",
       "20180921  0.259565  0.251693  0.244562  0.237450  0.229866  0.222303   \n",
       "20181221  0.245600  0.239659  0.233462  0.227082  0.221022  0.214573   \n",
       "\n",
       "strike       215.0     220.0     225.0     230.0    ...        277.0  \\\n",
       "expiry                                              ...                \n",
       "20180420  0.237130  0.226235  0.214872  0.203307    ...     0.089141   \n",
       "20180615  0.225516  0.215631  0.206500  0.196725    ...     0.100243   \n",
       "20180720  0.220449  0.211831  0.202937  0.194053    ...     0.107109   \n",
       "20180921  0.214764  0.207354  0.199727  0.191983    ...     0.115594   \n",
       "20181221  0.208275  0.201982  0.195585  0.189119    ...     0.125604   \n",
       "\n",
       "strike       278.0     279.0     280.0     285.0     290.0     295.0  \\\n",
       "expiry                                                                 \n",
       "20180420  0.087186  0.085313  0.083504  0.077595  0.076162  0.078293   \n",
       "20180615  0.098337  0.096601  0.094872  0.087177  0.082121  0.080506   \n",
       "20180720  0.105224  0.103641  0.101918  0.094306  0.088106  0.084230   \n",
       "20180921  0.114130  0.112466  0.110938  0.103429  0.097122  0.091715   \n",
       "20181221  0.124341  0.122862  0.121360  0.115041  0.109227  0.103738   \n",
       "\n",
       "strike       300.0     305.0     310.0  \n",
       "expiry                                  \n",
       "20180420  0.084708  0.089068  0.093555  \n",
       "20180615  0.081582  0.084616  0.088552  \n",
       "20180720  0.083227  0.084098  0.087172  \n",
       "20180921  0.088165  0.086469  0.086845  \n",
       "20181221  0.099243  0.095465  0.092823  \n",
       "\n",
       "[5 rows x 50 columns]"
      ]
     },
     "execution_count": 497,
     "metadata": {},
     "output_type": "execute_result"
    }
   ],
   "source": [
    "df_iv_filtered_pivot"
   ]
  },
  {
   "cell_type": "markdown",
   "metadata": {},
   "source": [
    "# INPUTS :"
   ]
  },
  {
   "cell_type": "code",
   "execution_count": 498,
   "metadata": {},
   "outputs": [],
   "source": [
    "expiration_dates = [ql.DateParser.parseFormatted(exp,'%Y%m%d') for exp in df_iv_filtered_pivot.index.tolist()]\n",
    "strikes = df_iv_filtered_pivot.columns.tolist()\n",
    "data = df_iv_filtered_pivot.values.tolist()"
   ]
  },
  {
   "cell_type": "code",
   "execution_count": 516,
   "metadata": {},
   "outputs": [
    {
     "data": {
      "text/plain": [
       "[Date(20,4,2018),\n",
       " Date(15,6,2018),\n",
       " Date(20,7,2018),\n",
       " Date(21,9,2018),\n",
       " Date(21,12,2018)]"
      ]
     },
     "execution_count": 516,
     "metadata": {},
     "output_type": "execute_result"
    }
   ],
   "source": [
    "expiration_dates"
   ]
  },
  {
   "cell_type": "markdown",
   "metadata": {},
   "source": [
    "# HESTON CALIBRATION ON DATA"
   ]
  },
  {
   "cell_type": "code",
   "execution_count": 499,
   "metadata": {},
   "outputs": [],
   "source": [
    "def setup_helpers(engine, expiration_dates, strikes, \n",
    "                  data, ref_date, spot, yield_ts, \n",
    "                  dividend_ts):\n",
    "    heston_helpers = []\n",
    "    grid_data = []\n",
    "    for i, date in enumerate(expiration_dates):\n",
    "        for j, s in enumerate(strikes):\n",
    "            t = (date - ref_date )\n",
    "            p = ql.Period(t, ql.Days)\n",
    "            vols = data[i][j]\n",
    "            helper = ql.HestonModelHelper(\n",
    "                p, calendar, spot, s, \n",
    "                ql.QuoteHandle(ql.SimpleQuote(vols)),\n",
    "                yield_ts, dividend_ts)\n",
    "            helper.setPricingEngine(engine)\n",
    "            heston_helpers.append(helper)\n",
    "            grid_data.append((date, s))\n",
    "    return heston_helpers, grid_data\n",
    "\n",
    "def cost_function_generator(model, helpers,norm=False):\n",
    "    def cost_function(params):\n",
    "        params_ = ql.Array(list(params))\n",
    "        model.setParams(params_)\n",
    "        error = [h.calibrationError() for h in helpers]\n",
    "        if norm:\n",
    "            return np.sqrt(np.sum(np.abs(error)))\n",
    "        else:\n",
    "            return error\n",
    "    return cost_function\n",
    "\n",
    "def calibration_report(helpers, grid_data, detailed=False):\n",
    "    avg = 0.0\n",
    "    if detailed:\n",
    "        print(\"%15s %25s %15s %15s %20s\" % (\n",
    "            \"Strikes\", \"Expiry\", \"Market Value\", \n",
    "             \"Model Value\", \"Relative Error (%)\"))\n",
    "        print(\"=\"*100)\n",
    "    for i, opt in enumerate(helpers):\n",
    "        err = (opt.modelValue()/opt.marketValue() - 1.0)\n",
    "        date,strike = grid_data[i]\n",
    "        if detailed:\n",
    "            print(\"%15.2f %25s %14.5f %15.5f %20.7f \" % (\n",
    "                strike, str(date), opt.marketValue(), \n",
    "                opt.modelValue(), \n",
    "                100.0*(opt.modelValue()/opt.marketValue() - 1.0)))\n",
    "        avg += abs(err)\n",
    "    avg = avg*100.0/len(helpers)\n",
    "    if detailed: print(\"-\"*100)\n",
    "    summary = \"Average Abs Error (%%) : %5.9f\" % (avg)\n",
    "    print(summary)\n",
    "    return avg\n",
    "    \n",
    "def setup_model(_yield_ts, _dividend_ts, _spot, \n",
    "                init_condition=(0.02,0.2,0.5,0.1,0.01)):\n",
    "    theta, kappa, sigma, rho, v0 = init_condition\n",
    "    process = ql.HestonProcess(_yield_ts, _dividend_ts, \n",
    "                           ql.QuoteHandle(ql.SimpleQuote(_spot)), \n",
    "                           v0, kappa, theta, sigma, rho)\n",
    "    model = ql.HestonModel(process)\n",
    "    engine = ql.AnalyticHestonEngine(model) \n",
    "    return model, engine\n",
    "summary= []"
   ]
  },
  {
   "cell_type": "markdown",
   "metadata": {},
   "source": [
    "# OPTIMISATION AND RESULTS "
   ]
  },
  {
   "cell_type": "code",
   "execution_count": 500,
   "metadata": {},
   "outputs": [],
   "source": [
    "# clibration Using QuantLib Levenberg-Marquardt Solver"
   ]
  },
  {
   "cell_type": "code",
   "execution_count": 501,
   "metadata": {},
   "outputs": [],
   "source": [
    "model1, engine1 = setup_model(\n",
    "    yield_ts, dividend_ts, spot, \n",
    "    init_condition=(0.02,0.2,0.5,0.1,0.01))\n",
    "heston_helpers1, grid_data1 = setup_helpers(\n",
    "    engine1, expiration_dates, strikes, data, \n",
    "    calculation_date, spot, yield_ts, dividend_ts\n",
    ")\n",
    "initial_condition = list(model1.params())"
   ]
  },
  {
   "cell_type": "code",
   "execution_count": 502,
   "metadata": {},
   "outputs": [
    {
     "name": "stdout",
     "output_type": "stream",
     "text": [
      "theta = 0.029416, kappa = 3.391330, sigma = 1.752326, rho = -0.623504, v0 = 0.004728\n",
      "Average Abs Error (%) : 1.771193893\n",
      "CPU times: user 1.25 s, sys: 11.3 ms, total: 1.26 s\n",
      "Wall time: 1.27 s\n"
     ]
    }
   ],
   "source": [
    "%%time\n",
    "lm = ql.LevenbergMarquardt(1e-8, 1e-8, 1e-8)\n",
    "model1.calibrate(heston_helpers1, lm, \n",
    "                 ql.EndCriteria(500, 300, 1.0e-8,1.0e-8, 1.0e-8))\n",
    "theta, kappa, sigma, rho, v0 = model1.params()\n",
    "print(\"theta = %f, kappa = %f, sigma = %f, rho = %f, v0 = %f\" % \\\n",
    "    (theta, kappa, sigma, rho, v0))\n",
    "error = calibration_report(heston_helpers1, grid_data1)\n",
    "summary.append([\"QL LM1\", error] + list(model1.params()))"
   ]
  },
  {
   "cell_type": "code",
   "execution_count": 503,
   "metadata": {},
   "outputs": [],
   "source": [
    "## LEAST SQUARED ERROR OPTIMISATION"
   ]
  },
  {
   "cell_type": "code",
   "execution_count": 504,
   "metadata": {},
   "outputs": [],
   "source": [
    "from scipy.optimize import least_squares\n",
    "model3, engine3 = setup_model(\n",
    "    yield_ts, dividend_ts, spot, \n",
    "    init_condition=(0.2,0.8,0.5,-0.5,0.02))\n",
    "heston_helpers3, grid_data3 = setup_helpers(\n",
    "    engine3, expiration_dates, strikes, data,\n",
    "    calculation_date, spot, yield_ts, dividend_ts\n",
    ")\n",
    "initial_condition = list(model3.params())"
   ]
  },
  {
   "cell_type": "code",
   "execution_count": 505,
   "metadata": {},
   "outputs": [
    {
     "name": "stdout",
     "output_type": "stream",
     "text": [
      "theta = 0.029417, kappa = 3.391130, sigma = 1.752264, rho = -0.623505, v0 = 0.004729\n",
      "Average Abs Error (%) : 1.771167817\n",
      "CPU times: user 2.36 s, sys: 11.4 ms, total: 2.37 s\n",
      "Wall time: 2.38 s\n"
     ]
    }
   ],
   "source": [
    "%%time\n",
    "cost_function = cost_function_generator(model3, heston_helpers3)\n",
    "sol = least_squares(cost_function, initial_condition)\n",
    "theta, kappa, sigma, rho, v0 = model3.params()\n",
    "print(\"theta = %f, kappa = %f, sigma = %f, rho = %f, v0 = %f\" % \\\n",
    "    (theta, kappa, sigma, rho, v0))\n",
    "error = calibration_report(heston_helpers3, grid_data3)\n",
    "summary.append([\"Scipy LS1\", error] + list(model3.params()))"
   ]
  },
  {
   "cell_type": "code",
   "execution_count": 519,
   "metadata": {},
   "outputs": [
    {
     "data": {
      "text/plain": [
       "0.1414213562373095"
      ]
     },
     "execution_count": 519,
     "metadata": {},
     "output_type": "execute_result"
    }
   ],
   "source": [
    "sqrt(0.02)"
   ]
  },
  {
   "cell_type": "code",
   "execution_count": 521,
   "metadata": {},
   "outputs": [
    {
     "data": {
      "text/plain": [
       "0.06324555320336758"
      ]
     },
     "execution_count": 521,
     "metadata": {},
     "output_type": "execute_result"
    }
   ],
   "source": [
    "sqrt(0.004)"
   ]
  },
  {
   "cell_type": "code",
   "execution_count": null,
   "metadata": {},
   "outputs": [],
   "source": []
  },
  {
   "cell_type": "code",
   "execution_count": 508,
   "metadata": {},
   "outputs": [],
   "source": [
    "# Diferential evolution"
   ]
  },
  {
   "cell_type": "code",
   "execution_count": 509,
   "metadata": {},
   "outputs": [],
   "source": [
    "from scipy.optimize import differential_evolution\n",
    "model4, engine4 = setup_model(yield_ts, dividend_ts, spot)\n",
    "heston_helpers4, grid_data4 = setup_helpers(\n",
    "    engine4, expiration_dates, strikes, data,\n",
    "    calculation_date, spot, yield_ts, dividend_ts\n",
    ")\n",
    "initial_condition = list(model4.params())\n",
    "bounds = [(0,1),(0.01,15), (0.01,1.), (-1,1), (0,1.0) ]\n"
   ]
  },
  {
   "cell_type": "code",
   "execution_count": 510,
   "metadata": {},
   "outputs": [
    {
     "name": "stdout",
     "output_type": "stream",
     "text": [
      "theta = 0.044068, kappa = 0.996814, sigma = 1.000000, rho = -0.633347, v0 = 0.009492\n",
      "Average Abs Error (%) : 2.709417779\n",
      "CPU times: user 1min 25s, sys: 195 ms, total: 1min 26s\n",
      "Wall time: 1min 26s\n"
     ]
    }
   ],
   "source": [
    "%%time\n",
    "cost_function = cost_function_generator(\n",
    "    model4, heston_helpers4, norm=True)\n",
    "sol = differential_evolution(cost_function, bounds, maxiter=100)\n",
    "theta, kappa, sigma, rho, v0 = model4.params()\n",
    "print(\"theta = %f, kappa = %f, sigma = %f, rho = %f, v0 = %f\" % \\\n",
    "    (theta, kappa, sigma, rho, v0))\n",
    "error = calibration_report(heston_helpers4, grid_data4)\n",
    "summary.append([\"Scipy DE1\", error] + list(model4.params()))"
   ]
  },
  {
   "cell_type": "code",
   "execution_count": 518,
   "metadata": {},
   "outputs": [
    {
     "data": {
      "text/plain": [
       "0.09486832980505137"
      ]
     },
     "execution_count": 518,
     "metadata": {},
     "output_type": "execute_result"
    }
   ],
   "source": [
    "sqrt(0.009)"
   ]
  },
  {
   "cell_type": "code",
   "execution_count": 403,
   "metadata": {},
   "outputs": [],
   "source": [
    "#Basin Hopping Algorithm"
   ]
  },
  {
   "cell_type": "code",
   "execution_count": 506,
   "metadata": {},
   "outputs": [],
   "source": [
    "from scipy.optimize import basinhopping\n",
    "class MyBounds(object):\n",
    "    def __init__(self, xmin=[0.,0.01,0.01,-1,0], xmax=[1,15,1,1,1.0] ):\n",
    "        self.xmax = np.array(xmax)\n",
    "        self.xmin = np.array(xmin)\n",
    "    def __call__(self, **kwargs):\n",
    "        x = kwargs[\"x_new\"]\n",
    "        tmax = bool(np.all(x <= self.xmax))\n",
    "        tmin = bool(np.all(x >= self.xmin))\n",
    "        return tmax and tmin\n",
    "bounds = [(0,1),(0.01,15), (0.01,1.), (-1,1), (0,1.0) ]\n",
    "model5, engine5 = setup_model(\n",
    "    yield_ts, dividend_ts, spot,\n",
    "    init_condition=(0.02,0.2,0.5,0.1,0.01))\n",
    "heston_helpers5, grid_data5 = setup_helpers(\n",
    "    engine5, expiration_dates, strikes, data,\n",
    "    calculation_date, spot, yield_ts, dividend_ts\n",
    ")\n",
    "initial_condition = list(model5.params())"
   ]
  },
  {
   "cell_type": "code",
   "execution_count": 507,
   "metadata": {},
   "outputs": [
    {
     "name": "stdout",
     "output_type": "stream",
     "text": [
      "theta = 0.044023, kappa = 0.997852, sigma = 1.000000, rho = -0.633319, v0 = 0.009498\n",
      "Average Abs Error (%) : 2.709397488\n",
      "CPU times: user 1min 20s, sys: 659 ms, total: 1min 21s\n",
      "Wall time: 1min 23s\n"
     ]
    }
   ],
   "source": [
    "%%time\n",
    "mybound = MyBounds()\n",
    "minimizer_kwargs = {\"method\": \"L-BFGS-B\", \"bounds\": bounds }\n",
    "cost_function = cost_function_generator(\n",
    "    model5, heston_helpers5, norm=True)\n",
    "sol = basinhopping(cost_function, initial_condition, niter=5,\n",
    "                   minimizer_kwargs=minimizer_kwargs,\n",
    "                   stepsize=0.005,\n",
    "                   accept_test=mybound,\n",
    "                   interval=10)\n",
    "theta, kappa, sigma, rho, v0 = model5.params()\n",
    "print(\"theta = %f, kappa = %f, sigma = %f, rho = %f, v0 = %f\" % \\\n",
    "    (theta, kappa, sigma, rho, v0))\n",
    "error = calibration_report(heston_helpers5, grid_data5)\n",
    "summary.append([\"Scipy BH1\", error] + list(model5.params()))"
   ]
  },
  {
   "cell_type": "code",
   "execution_count": null,
   "metadata": {},
   "outputs": [],
   "source": []
  }
 ],
 "metadata": {
  "kernelspec": {
   "display_name": "Python 3",
   "language": "python",
   "name": "python3"
  },
  "language_info": {
   "codemirror_mode": {
    "name": "ipython",
    "version": 3
   },
   "file_extension": ".py",
   "mimetype": "text/x-python",
   "name": "python",
   "nbconvert_exporter": "python",
   "pygments_lexer": "ipython3",
   "version": "3.6.7"
  }
 },
 "nbformat": 4,
 "nbformat_minor": 2
}
